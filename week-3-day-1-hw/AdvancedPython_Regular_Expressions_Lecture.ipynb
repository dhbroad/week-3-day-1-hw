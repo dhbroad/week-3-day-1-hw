{
 "cells": [
  {
   "cell_type": "markdown",
   "metadata": {},
   "source": [
    "# Regular Expressions"
   ]
  },
  {
   "cell_type": "markdown",
   "metadata": {},
   "source": [
    "# Tasks today:\n",
    "1) <b>Importing</b> <br>\n",
    "2) <b>Using Regular Expressions</b> <br>\n",
    " &nbsp;&nbsp;&nbsp;&nbsp; a) re.compile() <br>\n",
    " &nbsp;&nbsp;&nbsp;&nbsp; b) re.match() <br>\n",
    " &nbsp;&nbsp;&nbsp;&nbsp; c) re.findall() <br>\n",
    " &nbsp;&nbsp;&nbsp;&nbsp; d) re.search() <br>\n",
    "3) <b>Sets</b> <br>\n",
    " &nbsp;&nbsp;&nbsp;&nbsp; a) Integer Ranges <br>\n",
    " &nbsp;&nbsp;&nbsp;&nbsp; b) Character Ranges <br>\n",
    "4) <b>Counting Occurences</b> <br>\n",
    " &nbsp;&nbsp;&nbsp;&nbsp; a) {x} <br>\n",
    " &nbsp;&nbsp;&nbsp;&nbsp; b) {, x} <br>\n",
    " &nbsp;&nbsp;&nbsp;&nbsp; c) {?} <br>\n",
    " &nbsp;&nbsp;&nbsp;&nbsp; d) {*} <br>\n",
    " &nbsp;&nbsp;&nbsp;&nbsp; e) {+} <br>\n",
    "5) <b>In-Class Exercise #1</b> <br>\n",
    "6) <b>Escaping Characters</b> <br>\n",
    "7) <b>Grouping</b> <br>\n",
    "8) <b>In-Class Exercise #2</b> <br>\n",
    "9) <b>Opening a File</b> <br>\n",
    " &nbsp;&nbsp;&nbsp;&nbsp; a) open() <br>\n",
    " &nbsp;&nbsp;&nbsp;&nbsp; b) with open() <br>\n",
    " &nbsp;&nbsp;&nbsp;&nbsp; c) re.match() <br>\n",
    " &nbsp;&nbsp;&nbsp;&nbsp; d) re.search() <br>\n",
    " &nbsp;&nbsp;&nbsp;&nbsp; e) Store the String in a Variable <br>\n",
    "10) <b>Regex Project</b> <br>"
   ]
  },
  {
   "cell_type": "markdown",
   "metadata": {},
   "source": [
    "### Importing <br>\n",
    "<p>Regular Expressions are universal throughout most programming languages... They are generally imported through the module 're'.</p>"
   ]
  },
  {
   "cell_type": "code",
   "execution_count": 6,
   "metadata": {},
   "outputs": [],
   "source": [
    "# import re\n",
    "# (regular expressions)\n",
    "\n",
    "import re"
   ]
  },
  {
   "cell_type": "markdown",
   "metadata": {},
   "source": [
    "### Using Regular Expressions <br>\n",
    "<p>Regular expressions give us the ability to search for patterns within text, strings, files, etc. They serve several uses, such as; security measures, searching, filtering, pattern recognition, and more...</p>"
   ]
  },
  {
   "cell_type": "markdown",
   "metadata": {},
   "source": [
    "##### re.compile()"
   ]
  },
  {
   "cell_type": "code",
   "execution_count": 7,
   "metadata": {},
   "outputs": [
    {
     "data": {
      "text/plain": [
       "re.Pattern"
      ]
     },
     "execution_count": 7,
     "metadata": {},
     "output_type": "execute_result"
    }
   ],
   "source": [
    "# using compile, predetermines the string to be used in regular expression methods\n",
    "\n",
    "# you're creating the pattern that you're looking for\n",
    "pattern = re.compile('abcd')\n",
    "type(pattern)"
   ]
  },
  {
   "cell_type": "markdown",
   "metadata": {},
   "source": [
    "##### re.match()"
   ]
  },
  {
   "cell_type": "code",
   "execution_count": 8,
   "metadata": {},
   "outputs": [
    {
     "name": "stdout",
     "output_type": "stream",
     "text": [
      "<re.Match object; span=(0, 4), match='abcd'>\n",
      "(0, 4)\n"
     ]
    }
   ],
   "source": [
    "# works on a patter object\n",
    "\n",
    "match = pattern.match('abcd123')\n",
    "print(match)\n",
    "\n",
    "span = match.span()\n",
    "print(span)"
   ]
  },
  {
   "cell_type": "markdown",
   "metadata": {},
   "source": [
    "##### re.findall()"
   ]
  },
  {
   "cell_type": "code",
   "execution_count": 9,
   "metadata": {},
   "outputs": [
    {
     "name": "stdout",
     "output_type": "stream",
     "text": [
      "['abcd', 'abcd', 'abcd', 'abcd']\n"
     ]
    }
   ],
   "source": [
    "finders = pattern.findall('123abcd abcd abab abcd123 12abcd32')\n",
    "print(finders)"
   ]
  },
  {
   "cell_type": "markdown",
   "metadata": {},
   "source": [
    "##### re.search()"
   ]
  },
  {
   "cell_type": "code",
   "execution_count": 10,
   "metadata": {},
   "outputs": [
    {
     "name": "stdout",
     "output_type": "stream",
     "text": [
      "<re.Match object; span=(0, 4), match='abcd'>\n",
      "(0, 4)\n"
     ]
    }
   ],
   "source": [
    "#search goes through the whole thing looking for the location whereas match only looks at the beginning\n",
    "match = pattern.search('abcd123')\n",
    "print(match)\n",
    "\n",
    "span = match.span()\n",
    "print(span)"
   ]
  },
  {
   "cell_type": "markdown",
   "metadata": {},
   "source": [
    "### Sets <br>\n",
    "<p>The following cells will allow you to use regular expressions to search for certain values within a range such as numbers 1 through 4.</p>"
   ]
  },
  {
   "cell_type": "markdown",
   "metadata": {},
   "source": [
    "##### [a-z] or [A-Z] - any lowercase/uppercase letters from a to z<br/>[^2] - anything that's not 2"
   ]
  },
  {
   "cell_type": "markdown",
   "metadata": {},
   "source": [
    "##### Integer Ranges"
   ]
  },
  {
   "cell_type": "code",
   "execution_count": 11,
   "metadata": {},
   "outputs": [
    {
     "name": "stdout",
     "output_type": "stream",
     "text": [
      "['673', '381', '581']\n"
     ]
    }
   ],
   "source": [
    "# youre pattern is always another string, but for sets, you can use the square brackets []\n",
    "pattern_int = re.compile('[0-7][7-9][0-3]')\n",
    "\n",
    "random_ints = '67383819138968534315478519846158109809806540684'\n",
    "\n",
    "found = pattern_int.findall(random_ints)\n",
    "print(found)"
   ]
  },
  {
   "cell_type": "markdown",
   "metadata": {},
   "source": [
    "##### Character Ranges"
   ]
  },
  {
   "cell_type": "code",
   "execution_count": 12,
   "metadata": {},
   "outputs": [
    {
     "name": "stdout",
     "output_type": "stream",
     "text": [
      "['He', 'Th', 'Mr', 'An']\n"
     ]
    }
   ],
   "source": [
    "char_pat = re.compile('[A-Z][a-z]')\n",
    "found = char_pat.findall(\"Hello There Mr. Anderson\")\n",
    "print(found)"
   ]
  },
  {
   "cell_type": "markdown",
   "metadata": {},
   "source": [
    "### Counting Occurences"
   ]
  },
  {
   "cell_type": "markdown",
   "metadata": {},
   "source": [
    "##### {x} - something that occurs {num_of_times}"
   ]
  },
  {
   "cell_type": "code",
   "execution_count": 13,
   "metadata": {},
   "outputs": [
    {
     "name": "stdout",
     "output_type": "stream",
     "text": [
      "['He', 'Th', 'Mr', 'An']\n"
     ]
    }
   ],
   "source": [
    "char_pat_2 = re.compile('[A-Z][a-z]{3}')\n",
    "found = char_pat.findall(\"Hello There Mr. Anderson\")\n",
    "print(found)"
   ]
  },
  {
   "cell_type": "markdown",
   "metadata": {},
   "source": [
    "##### {x, x} - something that occurs between x and x times"
   ]
  },
  {
   "cell_type": "code",
   "execution_count": 14,
   "metadata": {},
   "outputs": [
    {
     "name": "stdout",
     "output_type": "stream",
     "text": [
      "['He', 'Th', 'Mr', 'An']\n"
     ]
    }
   ],
   "source": [
    "char_pat_3 = re.compile('[A-Z][a-z]{0,3}')\n",
    "found = char_pat.findall(\"Hello There Mr. Anderson\")\n",
    "print(found)"
   ]
  },
  {
   "cell_type": "markdown",
   "metadata": {},
   "source": [
    "##### ? - something that occurs 0 or 1 time"
   ]
  },
  {
   "cell_type": "code",
   "execution_count": 15,
   "metadata": {},
   "outputs": [
    {
     "name": "stdout",
     "output_type": "stream",
     "text": [
      "['M', 'Mr', 'Ms', 'Mrs', 'Mr']\n"
     ]
    }
   ],
   "source": [
    "pat = re.compile('Mr?s?')\n",
    "found = pat.findall(\"Hello M there Mr. Anderson, Ms How is Mrsss.Anderson Mrrrrrrrs\")\n",
    "print(found)"
   ]
  },
  {
   "cell_type": "markdown",
   "metadata": {},
   "source": [
    "##### * - something that occurs at least 0 times"
   ]
  },
  {
   "cell_type": "code",
   "execution_count": 16,
   "metadata": {},
   "outputs": [
    {
     "name": "stdout",
     "output_type": "stream",
     "text": [
      "['M', 'Mr', 'Ms', 'Mrs', 'Mrrrrrrs']\n"
     ]
    }
   ],
   "source": [
    "pat = re.compile('Mr*s?')\n",
    "found = pat.findall(\"Hello M there Mr. Anderson, Ms How is Mrsss.Anderson Mrrrrrrs\")\n",
    "print(found)"
   ]
  },
  {
   "cell_type": "markdown",
   "metadata": {},
   "source": [
    "##### + - something that occurs at least once"
   ]
  },
  {
   "cell_type": "code",
   "execution_count": 17,
   "metadata": {},
   "outputs": [
    {
     "name": "stdout",
     "output_type": "stream",
     "text": [
      "['Mr', 'Mrs', 'Mrrrrrrrrs']\n"
     ]
    }
   ],
   "source": [
    "pat = re.compile('Mr+s?')\n",
    "found = pat.findall(\"Hello M there Mr. Anderson, Ms How is Mrsss.Anderson Mrrrrrrrrs\")\n",
    "print(found)"
   ]
  },
  {
   "cell_type": "markdown",
   "metadata": {},
   "source": [
    "##### In-class exercise 1: \n",
    "\n",
    "Use a regular expression to find every number in the given string"
   ]
  },
  {
   "cell_type": "code",
   "execution_count": 18,
   "metadata": {},
   "outputs": [
    {
     "name": "stdout",
     "output_type": "stream",
     "text": [
      "['10909090', '1', '2']\n"
     ]
    }
   ],
   "source": [
    "my_string = \"This string has 10909090 numbers, but it is only 1 string. I hope you solve this 2day.\"\n",
    "\n",
    "\n",
    "# Output: ['10909090','1',2]\n",
    "\n",
    "pat = re.compile('[0-9]+')\n",
    "found_ex1 = pat.findall(my_string)\n",
    "print(found_ex1)\n"
   ]
  },
  {
   "cell_type": "markdown",
   "metadata": {},
   "source": [
    "### Escaping Characters"
   ]
  },
  {
   "cell_type": "markdown",
   "metadata": {},
   "source": [
    "##### \\w - look for any Unicode character<br/>\\W - look for anything that isnt a Unicode character\n",
    "\n",
    "[History on Unicode](http://unicode.org/standard/WhatIsUnicode.html)\n",
    "\n",
    "[More on Unicode Characters](https://en.wikipedia.org/wiki/List_of_Unicode_characters)"
   ]
  },
  {
   "cell_type": "code",
   "execution_count": 19,
   "metadata": {},
   "outputs": [
    {
     "name": "stdout",
     "output_type": "stream",
     "text": [
      "['This', 'is', 'a', 'sentence', 'With', 'an', 'exclamation', 'mark', 'at', 'the', 'end', 'µ', 'ಭ', 'ß', 'ऊ', 'ǉ', 'ǈ', 'ಶ', 'ä', 'ņ']\n",
      "[' ', ' ', ' ', '.', ' ', ' ', ' ', '=', ',', ' ', ' ', ' ', ' ', ' ', '!', ' ', '🖃', ' ', '☠', ' ', '✗', ' ', '🖴', ' ', '🕖', ' ', '◻', ' ', '⌧', ' ', '✁', ' ', '❀', ' ', '○', ' ', ' ', ' ', ' ', '\\U00039895', ' ', ' ', '֥', ' ', ' ', '{', ' ', ' ', ' ', ' ', '\\U0001e29a']\n"
     ]
    }
   ],
   "source": [
    "# \\n is a new line\n",
    "# in regex they do something else as well\n",
    "\n",
    "pat1 = re.compile('[\\w]+') # finds all chars that add up to words\n",
    "pat2 = re.compile('[\\W]')\n",
    "found1 = pat1.findall('This is a sentence. With an =, exclamation mark at the end! 🖃 ☠ ✗ 🖴 🕖 ◻ ⌧ ✁ ❀ ○ µ ಭ ß 𹢕 ऊ ֥ǉ ǈ { ಶ ä ņ 𞊚')\n",
    "found2 = pat2.findall('This is a sentence. With an =, exclamation mark at the end! 🖃 ☠ ✗ 🖴 🕖 ◻ ⌧ ✁ ❀ ○ µ ಭ ß 𹢕 ऊ ֥ǉ ǈ { ಶ ä ņ 𞊚')\n",
    "\n",
    "print(found1)\n",
    "print(found2)"
   ]
  },
  {
   "cell_type": "markdown",
   "metadata": {},
   "source": [
    "##### \\d - look for any digit 0-9<br/>\\D - look for anything that isnt a digit"
   ]
  },
  {
   "cell_type": "code",
   "execution_count": 20,
   "metadata": {},
   "outputs": [
    {
     "name": "stdout",
     "output_type": "stream",
     "text": [
      "['888-888-8888', '999-999-9999']\n",
      "['Today is the ', 'th. In ', ' days it will be the ', 'th. My birthday was the ', 'th']\n"
     ]
    }
   ],
   "source": [
    "num_pat1 = re.compile('\\d{3}-\\d{3}-\\d{4}')\n",
    "not_num = re.compile('\\D+')\n",
    "\n",
    "found3 = num_pat1.findall('888-888-8888 999-999-9999 123-12-1234')\n",
    "found4 = not_num.findall('Today is the 18th. In 10 days it will be the 28th. My birthday was the 7th')\n",
    "\n",
    "print(found3)\n",
    "print(found4)"
   ]
  },
  {
   "cell_type": "markdown",
   "metadata": {},
   "source": [
    "##### \\s - look for any white space<br/>\\S - look for anything that isnt whitespace"
   ]
  },
  {
   "cell_type": "code",
   "execution_count": 21,
   "metadata": {},
   "outputs": [
    {
     "name": "stdout",
     "output_type": "stream",
     "text": [
      "[' ', ' ', '        \\t\\n \\t ', ' ', ' ']\n",
      "['Are', 'you', 'afraid', 'of', 'the', 'dark?']\n"
     ]
    }
   ],
   "source": [
    "space = re.compile('\\s+')\n",
    "not_space = re.compile('\\S+')\n",
    "\n",
    "found1 = space.findall('Are you afraid        \\t\\n \\t of the dark?')\n",
    "found2 = not_space.findall('Are you afraid       of the dark?')\n",
    "\n",
    "print(found1)\n",
    "print(found2)"
   ]
  },
  {
   "cell_type": "markdown",
   "metadata": {},
   "source": [
    "##### \\b - look for boundaries or edges of a word<br/>\\B - look for anything that isnt a boundary"
   ]
  },
  {
   "cell_type": "code",
   "execution_count": 22,
   "metadata": {},
   "outputs": [
    {
     "name": "stdout",
     "output_type": "stream",
     "text": [
      "['TheCodingTemple']\n",
      "[]\n",
      "[]\n"
     ]
    }
   ],
   "source": [
    "# raw strings r'' treat everything inside as literal\n",
    "bound = re.compile(r'\\bTheCodingTemple\\b')\n",
    "not_bound = re.compile(r'\\BTheCodingTemple\\B')\n",
    "\n",
    "found1 = bound.findall('TheCodingTemple')\n",
    "found2 = not_bound.findall(\"TheCodingTemple\")\n",
    "\n",
    "print(found1)\n",
    "print(found2)\n",
    "#spaces are also a boundary\n",
    "found2 = not_bound.findall(\"asdf zTheCodingTemple asdf\")\n",
    "print(found2)"
   ]
  },
  {
   "cell_type": "markdown",
   "metadata": {},
   "source": [
    "### Grouping"
   ]
  },
  {
   "cell_type": "code",
   "execution_count": 23,
   "metadata": {},
   "outputs": [
    {
     "name": "stdout",
     "output_type": "stream",
     "text": [
      "['Max Smith', 'Sam Darnold', 'LeBron James', 'Micheal Jordan', 'Kevin Durant', 'Patrick McCormick']\n",
      "[('Max', 'Smith'), ('Sam', 'Darnold'), ('LeBron', 'James'), ('Micheal', 'Jordan'), ('Kevin', 'Durant'), ('Patrick', 'McCormick')]\n"
     ]
    },
    {
     "ename": "error",
     "evalue": "nothing to repeat at position 0",
     "output_type": "error",
     "traceback": [
      "\u001b[1;31m---------------------------------------------------------------------------\u001b[0m",
      "\u001b[1;31merror\u001b[0m                                     Traceback (most recent call last)",
      "\u001b[1;32mc:\\Users\\david\\Desktop\\Coding Temple\\Week 3\\day-1\\week-3-day-1-hw\\AdvancedPython_Regular_Expressions_Lecture.ipynb Cell 43'\u001b[0m in \u001b[0;36m<module>\u001b[1;34m\u001b[0m\n\u001b[0;32m     <a href='vscode-notebook-cell:/c%3A/Users/david/Desktop/Coding%20Temple/Week%203/day-1/week-3-day-1-hw/AdvancedPython_Regular_Expressions_Lecture.ipynb#ch0000042?line=12'>13</a>\u001b[0m \u001b[39mprint\u001b[39m(found)\n\u001b[0;32m     <a href='vscode-notebook-cell:/c%3A/Users/david/Desktop/Coding%20Temple/Week%203/day-1/week-3-day-1-hw/AdvancedPython_Regular_Expressions_Lecture.ipynb#ch0000042?line=14'>15</a>\u001b[0m \u001b[39m# creating a group name\u001b[39;00m\n\u001b[1;32m---> <a href='vscode-notebook-cell:/c%3A/Users/david/Desktop/Coding%20Temple/Week%203/day-1/week-3-day-1-hw/AdvancedPython_Regular_Expressions_Lecture.ipynb#ch0000042?line=15'>16</a>\u001b[0m name_pat \u001b[39m=\u001b[39m re\u001b[39m.\u001b[39;49mcompile(\u001b[39m'\u001b[39;49m\u001b[39m?P<first>([A-Z][a-zA-Z]+) (?P<last>[A-Z][a-zA-Z]+)\u001b[39;49m\u001b[39m'\u001b[39;49m)\n\u001b[0;32m     <a href='vscode-notebook-cell:/c%3A/Users/david/Desktop/Coding%20Temple/Week%203/day-1/week-3-day-1-hw/AdvancedPython_Regular_Expressions_Lecture.ipynb#ch0000042?line=16'>17</a>\u001b[0m \u001b[39m# now each of the objects have 'first' and 'last' name\u001b[39;00m\n\u001b[0;32m     <a href='vscode-notebook-cell:/c%3A/Users/david/Desktop/Coding%20Temple/Week%203/day-1/week-3-day-1-hw/AdvancedPython_Regular_Expressions_Lecture.ipynb#ch0000042?line=17'>18</a>\u001b[0m found \u001b[39m=\u001b[39m name_pat\u001b[39m.\u001b[39mfindall(my_string_again)\n",
      "File \u001b[1;32m~\\AppData\\Local\\Programs\\Python\\Python39\\lib\\re.py:252\u001b[0m, in \u001b[0;36mcompile\u001b[1;34m(pattern, flags)\u001b[0m\n\u001b[0;32m    <a href='file:///~/AppData/Local/Programs/Python/Python39/lib/re.py?line=249'>250</a>\u001b[0m \u001b[39mdef\u001b[39;00m \u001b[39mcompile\u001b[39m(pattern, flags\u001b[39m=\u001b[39m\u001b[39m0\u001b[39m):\n\u001b[0;32m    <a href='file:///~/AppData/Local/Programs/Python/Python39/lib/re.py?line=250'>251</a>\u001b[0m     \u001b[39m\"\u001b[39m\u001b[39mCompile a regular expression pattern, returning a Pattern object.\u001b[39m\u001b[39m\"\u001b[39m\n\u001b[1;32m--> <a href='file:///~/AppData/Local/Programs/Python/Python39/lib/re.py?line=251'>252</a>\u001b[0m     \u001b[39mreturn\u001b[39;00m _compile(pattern, flags)\n",
      "File \u001b[1;32m~\\AppData\\Local\\Programs\\Python\\Python39\\lib\\re.py:304\u001b[0m, in \u001b[0;36m_compile\u001b[1;34m(pattern, flags)\u001b[0m\n\u001b[0;32m    <a href='file:///~/AppData/Local/Programs/Python/Python39/lib/re.py?line=301'>302</a>\u001b[0m \u001b[39mif\u001b[39;00m \u001b[39mnot\u001b[39;00m sre_compile\u001b[39m.\u001b[39misstring(pattern):\n\u001b[0;32m    <a href='file:///~/AppData/Local/Programs/Python/Python39/lib/re.py?line=302'>303</a>\u001b[0m     \u001b[39mraise\u001b[39;00m \u001b[39mTypeError\u001b[39;00m(\u001b[39m\"\u001b[39m\u001b[39mfirst argument must be string or compiled pattern\u001b[39m\u001b[39m\"\u001b[39m)\n\u001b[1;32m--> <a href='file:///~/AppData/Local/Programs/Python/Python39/lib/re.py?line=303'>304</a>\u001b[0m p \u001b[39m=\u001b[39m sre_compile\u001b[39m.\u001b[39;49mcompile(pattern, flags)\n\u001b[0;32m    <a href='file:///~/AppData/Local/Programs/Python/Python39/lib/re.py?line=304'>305</a>\u001b[0m \u001b[39mif\u001b[39;00m \u001b[39mnot\u001b[39;00m (flags \u001b[39m&\u001b[39m DEBUG):\n\u001b[0;32m    <a href='file:///~/AppData/Local/Programs/Python/Python39/lib/re.py?line=305'>306</a>\u001b[0m     \u001b[39mif\u001b[39;00m \u001b[39mlen\u001b[39m(_cache) \u001b[39m>\u001b[39m\u001b[39m=\u001b[39m _MAXCACHE:\n\u001b[0;32m    <a href='file:///~/AppData/Local/Programs/Python/Python39/lib/re.py?line=306'>307</a>\u001b[0m         \u001b[39m# Drop the oldest item\u001b[39;00m\n",
      "File \u001b[1;32m~\\AppData\\Local\\Programs\\Python\\Python39\\lib\\sre_compile.py:764\u001b[0m, in \u001b[0;36mcompile\u001b[1;34m(p, flags)\u001b[0m\n\u001b[0;32m    <a href='file:///~/AppData/Local/Programs/Python/Python39/lib/sre_compile.py?line=761'>762</a>\u001b[0m \u001b[39mif\u001b[39;00m isstring(p):\n\u001b[0;32m    <a href='file:///~/AppData/Local/Programs/Python/Python39/lib/sre_compile.py?line=762'>763</a>\u001b[0m     pattern \u001b[39m=\u001b[39m p\n\u001b[1;32m--> <a href='file:///~/AppData/Local/Programs/Python/Python39/lib/sre_compile.py?line=763'>764</a>\u001b[0m     p \u001b[39m=\u001b[39m sre_parse\u001b[39m.\u001b[39;49mparse(p, flags)\n\u001b[0;32m    <a href='file:///~/AppData/Local/Programs/Python/Python39/lib/sre_compile.py?line=764'>765</a>\u001b[0m \u001b[39melse\u001b[39;00m:\n\u001b[0;32m    <a href='file:///~/AppData/Local/Programs/Python/Python39/lib/sre_compile.py?line=765'>766</a>\u001b[0m     pattern \u001b[39m=\u001b[39m \u001b[39mNone\u001b[39;00m\n",
      "File \u001b[1;32m~\\AppData\\Local\\Programs\\Python\\Python39\\lib\\sre_parse.py:948\u001b[0m, in \u001b[0;36mparse\u001b[1;34m(str, flags, state)\u001b[0m\n\u001b[0;32m    <a href='file:///~/AppData/Local/Programs/Python/Python39/lib/sre_parse.py?line=944'>945</a>\u001b[0m state\u001b[39m.\u001b[39mstr \u001b[39m=\u001b[39m \u001b[39mstr\u001b[39m\n\u001b[0;32m    <a href='file:///~/AppData/Local/Programs/Python/Python39/lib/sre_parse.py?line=946'>947</a>\u001b[0m \u001b[39mtry\u001b[39;00m:\n\u001b[1;32m--> <a href='file:///~/AppData/Local/Programs/Python/Python39/lib/sre_parse.py?line=947'>948</a>\u001b[0m     p \u001b[39m=\u001b[39m _parse_sub(source, state, flags \u001b[39m&\u001b[39;49m SRE_FLAG_VERBOSE, \u001b[39m0\u001b[39;49m)\n\u001b[0;32m    <a href='file:///~/AppData/Local/Programs/Python/Python39/lib/sre_parse.py?line=948'>949</a>\u001b[0m \u001b[39mexcept\u001b[39;00m Verbose:\n\u001b[0;32m    <a href='file:///~/AppData/Local/Programs/Python/Python39/lib/sre_parse.py?line=949'>950</a>\u001b[0m     \u001b[39m# the VERBOSE flag was switched on inside the pattern.  to be\u001b[39;00m\n\u001b[0;32m    <a href='file:///~/AppData/Local/Programs/Python/Python39/lib/sre_parse.py?line=950'>951</a>\u001b[0m     \u001b[39m# on the safe side, we'll parse the whole thing again...\u001b[39;00m\n\u001b[0;32m    <a href='file:///~/AppData/Local/Programs/Python/Python39/lib/sre_parse.py?line=951'>952</a>\u001b[0m     state \u001b[39m=\u001b[39m State()\n",
      "File \u001b[1;32m~\\AppData\\Local\\Programs\\Python\\Python39\\lib\\sre_parse.py:443\u001b[0m, in \u001b[0;36m_parse_sub\u001b[1;34m(source, state, verbose, nested)\u001b[0m\n\u001b[0;32m    <a href='file:///~/AppData/Local/Programs/Python/Python39/lib/sre_parse.py?line=440'>441</a>\u001b[0m start \u001b[39m=\u001b[39m source\u001b[39m.\u001b[39mtell()\n\u001b[0;32m    <a href='file:///~/AppData/Local/Programs/Python/Python39/lib/sre_parse.py?line=441'>442</a>\u001b[0m \u001b[39mwhile\u001b[39;00m \u001b[39mTrue\u001b[39;00m:\n\u001b[1;32m--> <a href='file:///~/AppData/Local/Programs/Python/Python39/lib/sre_parse.py?line=442'>443</a>\u001b[0m     itemsappend(_parse(source, state, verbose, nested \u001b[39m+\u001b[39;49m \u001b[39m1\u001b[39;49m,\n\u001b[0;32m    <a href='file:///~/AppData/Local/Programs/Python/Python39/lib/sre_parse.py?line=443'>444</a>\u001b[0m                        \u001b[39mnot\u001b[39;49;00m nested \u001b[39mand\u001b[39;49;00m \u001b[39mnot\u001b[39;49;00m items))\n\u001b[0;32m    <a href='file:///~/AppData/Local/Programs/Python/Python39/lib/sre_parse.py?line=444'>445</a>\u001b[0m     \u001b[39mif\u001b[39;00m \u001b[39mnot\u001b[39;00m sourcematch(\u001b[39m\"\u001b[39m\u001b[39m|\u001b[39m\u001b[39m\"\u001b[39m):\n\u001b[0;32m    <a href='file:///~/AppData/Local/Programs/Python/Python39/lib/sre_parse.py?line=445'>446</a>\u001b[0m         \u001b[39mbreak\u001b[39;00m\n",
      "File \u001b[1;32m~\\AppData\\Local\\Programs\\Python\\Python39\\lib\\sre_parse.py:668\u001b[0m, in \u001b[0;36m_parse\u001b[1;34m(source, state, verbose, nested, first)\u001b[0m\n\u001b[0;32m    <a href='file:///~/AppData/Local/Programs/Python/Python39/lib/sre_parse.py?line=665'>666</a>\u001b[0m     item \u001b[39m=\u001b[39m \u001b[39mNone\u001b[39;00m\n\u001b[0;32m    <a href='file:///~/AppData/Local/Programs/Python/Python39/lib/sre_parse.py?line=666'>667</a>\u001b[0m \u001b[39mif\u001b[39;00m \u001b[39mnot\u001b[39;00m item \u001b[39mor\u001b[39;00m item[\u001b[39m0\u001b[39m][\u001b[39m0\u001b[39m] \u001b[39mis\u001b[39;00m AT:\n\u001b[1;32m--> <a href='file:///~/AppData/Local/Programs/Python/Python39/lib/sre_parse.py?line=667'>668</a>\u001b[0m     \u001b[39mraise\u001b[39;00m source\u001b[39m.\u001b[39merror(\u001b[39m\"\u001b[39m\u001b[39mnothing to repeat\u001b[39m\u001b[39m\"\u001b[39m,\n\u001b[0;32m    <a href='file:///~/AppData/Local/Programs/Python/Python39/lib/sre_parse.py?line=668'>669</a>\u001b[0m                        source\u001b[39m.\u001b[39mtell() \u001b[39m-\u001b[39m here \u001b[39m+\u001b[39m \u001b[39mlen\u001b[39m(this))\n\u001b[0;32m    <a href='file:///~/AppData/Local/Programs/Python/Python39/lib/sre_parse.py?line=669'>670</a>\u001b[0m \u001b[39mif\u001b[39;00m item[\u001b[39m0\u001b[39m][\u001b[39m0\u001b[39m] \u001b[39min\u001b[39;00m _REPEATCODES:\n\u001b[0;32m    <a href='file:///~/AppData/Local/Programs/Python/Python39/lib/sre_parse.py?line=670'>671</a>\u001b[0m     \u001b[39mraise\u001b[39;00m source\u001b[39m.\u001b[39merror(\u001b[39m\"\u001b[39m\u001b[39mmultiple repeat\u001b[39m\u001b[39m\"\u001b[39m,\n\u001b[0;32m    <a href='file:///~/AppData/Local/Programs/Python/Python39/lib/sre_parse.py?line=671'>672</a>\u001b[0m                        source\u001b[39m.\u001b[39mtell() \u001b[39m-\u001b[39m here \u001b[39m+\u001b[39m \u001b[39mlen\u001b[39m(this))\n",
      "\u001b[1;31merror\u001b[0m: nothing to repeat at position 0"
     ]
    }
   ],
   "source": [
    "my_string_again = \"Max Smith, aaron rodgers, Sam Darnold, LeBron James, Micheal Jordan, Kevin Durant, Patrick McCormick\"\n",
    "\n",
    "# Group of names Regular Expression Compiler\n",
    "\n",
    "# the code below means it Starts with a capital leter, followed by a lower cased letter OR a capital letter\n",
    "name_pat = re.compile('[A-Z][a-zA-Z]+ [A-Z][a-zA-Z]+')\n",
    "found = name_pat.findall(my_string_again)\n",
    "print(found)\n",
    "\n",
    "# What if you just wanted first names or just wanted last names? That is where grouping comes in\n",
    "name_pat = re.compile('([A-Z][a-zA-Z]+) ([A-Z][a-zA-Z]+)')\n",
    "found = name_pat.findall(my_string_again)\n",
    "print(found)\n",
    "\n",
    "# creating a group name\n",
    "name_pat = re.compile('?P<first>([A-Z][a-zA-Z]+) (?P<last>[A-Z][a-zA-Z]+)')\n",
    "# now each of the objects have 'first' and 'last' name\n",
    "found = name_pat.findall(my_string_again)\n",
    "print(found)\n",
    "\n",
    "for name in my_string_again.split(', '): # <-- splitting based on the comma then space\n",
    "    match = name_pat.search(name)\n",
    "    if match:\n",
    "        print(f\"{match.group('last')}, {match.group('first')}\") # <- could also do group 1 or group 2. Anything higher would return an error because there's only 2 groups\n",
    "    else:\n",
    "        print('name not formatted correctly :(')"
   ]
  },
  {
   "cell_type": "markdown",
   "metadata": {},
   "source": [
    "##### In-class Exercise 2:\n",
    "\n",
    "Write a function using regular expressions to find the domain name in the given email addresses (and return None for the invalid email addresses)<br><b>HINT: Use '|' for either or</b>"
   ]
  },
  {
   "cell_type": "code",
   "execution_count": null,
   "metadata": {},
   "outputs": [
    {
     "name": "stdout",
     "output_type": "stream",
     "text": [
      "None\n",
      "pocohontas1776@gmail.com\n",
      "None\n",
      "yourfavoriteband@g6.org\n",
      "None\n"
     ]
    }
   ],
   "source": [
    "my_emails = [\"shohat@codingcodingtemple.orgcom\", \"pocohontas1776@gmail.com\", \"helloworld@aol..com\",\n",
    "             \"yourfavoriteband@g6.org\", \"@codingtemple.com\"]\n",
    "\n",
    "# You can also use the $ at the end of your compile expression -- this stops the search\n",
    "\n",
    "#Expected output:\n",
    "#None\n",
    "#pocohontas1776@gmail.com\n",
    "#None\n",
    "#yourfavoriteband@g6.org\n",
    "#None\n",
    "\n",
    "\n",
    "\n",
    "def checkEmail(email_list):\n",
    "                                            # +'s for \"at least one\" \n",
    "    pattern = re.compile('(?P<name>[a-zA-Z\\d]+)(?P<at>@)(?P<domain>[a-zA-Z\\d]+)(?P<period>.)(?P<toplevel>[a-z]{3})$') #first we'll have a name, so we'll do a group for name, followed by a group for each of the following groups we want\n",
    "    for email in email_list:\n",
    "        match = pattern.match(email)\n",
    "        if match:\n",
    "            print(match.group(0)) # <-- so you can print the entire thing\n",
    "        else:\n",
    "            print('None')\n",
    "\n",
    "checkEmail(my_emails)\n",
    "\n",
    "#could also do (?P<toplevel>gov|com|org)"
   ]
  },
  {
   "cell_type": "markdown",
   "metadata": {},
   "source": [
    "### Opening a File <br>\n",
    "<p>Python gives us a couple ways to import files, below are the two used most often.</p>"
   ]
  },
  {
   "cell_type": "markdown",
   "metadata": {},
   "source": [
    "##### open()"
   ]
  },
  {
   "cell_type": "code",
   "execution_count": null,
   "metadata": {},
   "outputs": [
    {
     "name": "stdout",
     "output_type": "stream",
     "text": [
      "Hawkins, Derek\tderek@codingtemple.com\t(555) 555-5555\tTeacher, Coding Temple\t@derekhawkins\n",
      "Zhai, Mo\tmozhai@codingtemple.com\t(555) 555-5554\tTeacher, Coding Temple\n",
      "Johnson, Joe\tjoejohnson@codingtemple.com\t\tJohson, Joe\n",
      "Osterberg, Sven-Erik\tgovernor@norrbotten.co.se\t\tGovernor, Norrbotten\t@sverik\n",
      ", Tim\ttim@killerrabbit.com\t\tEnchanter, Killer Rabbit Cave\n",
      "Butz, Ryan\tryanb@codingtemple.com\t(555) 555-5543\tCEO, Coding Temple\t@ryanbutz\n",
      "Doctor, The\tdoctor+companion@tardis.co.uk\t\tTime Lord, Gallifrey\n",
      "Exampleson, Example\tme@example.com\t555-555-5552\tExample, Example Co.\t@example\n",
      "Pael, Ripal\tripalp@codingtemple.com\t(555) 555-5553\tTeacher, Coding Temple\t@ripalp\n",
      "Vader, Darth\tdarth-vader@empire.gov\t(555) 555-4444\tSith Lord, Galactic Empire\t@darthvader\n",
      "Fernandez de la Vega Sanz, Maria Teresa\tmtfvs@spain.gov\t\tFirst Deputy Prime Minister, Spanish Gov\n",
      "\n"
     ]
    }
   ],
   "source": [
    "file = open('names.txt')\n",
    "data = file.read()\n",
    "print(data)\n",
    "file.close()"
   ]
  },
  {
   "cell_type": "markdown",
   "metadata": {},
   "source": [
    "##### with open()"
   ]
  },
  {
   "cell_type": "code",
   "execution_count": 25,
   "metadata": {},
   "outputs": [
    {
     "name": "stdout",
     "output_type": "stream",
     "text": [
      "Hawkins, Derek\tderek@codingtemple.com\t(555) 555-5555\tTeacher, Coding Temple\t@derekhawkins\n",
      "Zhai, Mo\tmozhai@codingtemple.com\t(555) 555-5554\tTeacher, Coding Temple\n",
      "Johnson, Joe\tjoejohnson@codingtemple.com\t\tJohson, Joe\n",
      "Osterberg, Sven-Erik\tgovernor@norrbotten.co.se\t\tGovernor, Norrbotten\t@sverik\n",
      ", Tim\ttim@killerrabbit.com\t\tEnchanter, Killer Rabbit Cave\n",
      "Butz, Ryan\tryanb@codingtemple.com\t(555) 555-5543\tCEO, Coding Temple\t@ryanbutz\n",
      "Doctor, The\tdoctor+companion@tardis.co.uk\t\tTime Lord, Gallifrey\n",
      "Exampleson, Example\tme@example.com\t555-555-5552\tExample, Example Co.\t@example\n",
      "Pael, Ripal\tripalp@codingtemple.com\t(555) 555-5553\tTeacher, Coding Temple\t@ripalp\n",
      "Vader, Darth\tdarth-vader@empire.gov\t(555) 555-4444\tSith Lord, Galactic Empire\t@darthvader\n",
      "Fernandez de la Vega Sanz, Maria Teresa\tmtfvs@spain.gov\t\tFirst Deputy Prime Minister, Spanish Gov\n",
      "\n"
     ]
    }
   ],
   "source": [
    "with open ('names.txt') as file:\n",
    "    data = file.read()\n",
    "    print(data)\n",
    "    #don't need a file.close() because with open() is self closing once the codeblock is done"
   ]
  },
  {
   "cell_type": "markdown",
   "metadata": {},
   "source": [
    "##### re.match()"
   ]
  },
  {
   "cell_type": "code",
   "execution_count": null,
   "metadata": {},
   "outputs": [
    {
     "name": "stdout",
     "output_type": "stream",
     "text": [
      "<re.Match object; span=(0, 14), match='Hawkins, Derek'>\n",
      "Hawkins, Derek\n"
     ]
    }
   ],
   "source": [
    "# not using the method anymore like pattern.match \n",
    "# match is technically a funtion. It doesn't belong to a class\n",
    "my_match = re.match('Hawkins, Derek', data) # second item is the string you are looking through\n",
    "# pat.match(data) vs match(pat,data)\n",
    "print(my_match)\n",
    "print(data[0:14])\n",
    "\n",
    "\n"
   ]
  },
  {
   "cell_type": "markdown",
   "metadata": {},
   "source": [
    "##### re.search()"
   ]
  },
  {
   "cell_type": "code",
   "execution_count": null,
   "metadata": {},
   "outputs": [
    {
     "name": "stdout",
     "output_type": "stream",
     "text": [
      "<re.Match object; span=(652, 664), match='Vader, Darth'>\n",
      "Vader, Darth\n"
     ]
    }
   ],
   "source": [
    "my_match = re.search('Vader, Darth', data)\n",
    "print(my_match)\n",
    "print(data[652:664])"
   ]
  },
  {
   "cell_type": "code",
   "execution_count": null,
   "metadata": {},
   "outputs": [],
   "source": [
    "# looking for the string\n",
    "re.findall('[a-z]+@codingtemple.com',data)"
   ]
  },
  {
   "cell_type": "markdown",
   "metadata": {},
   "source": [
    "##### Store the String to a Variable"
   ]
  },
  {
   "cell_type": "code",
   "execution_count": 26,
   "metadata": {},
   "outputs": [
    {
     "name": "stdout",
     "output_type": "stream",
     "text": [
      "it's a no from me, dawg\n"
     ]
    }
   ],
   "source": [
    "answer = input(\"What are you looking for? \")\n",
    "found = re.findall(answer, data)\n",
    "if found:\n",
    "    print(f'I found {len(found)} instances of {answer}')\n",
    "else:\n",
    "    print(\"it's a no from me, dawg\")"
   ]
  },
  {
   "cell_type": "markdown",
   "metadata": {},
   "source": [
    "### In-Class Exercise #3 <br>\n",
    "<p>Print each persons name and twitter handle, using groups, should look like:</p>\n",
    "<p>==============<br>\n",
    "   Full Name / Twitter<br>\n",
    "   ==============</p>\n",
    "Shoha Tsuchida / @shoha-tsuchida\n",
    "\n",
    "Daniel Le / @le\n",
    "\n",
    " Erik Sven-Osterberg / @sverik\n",
    "\n",
    " Shinha T / @shinha\n",
    "\n",
    " Example Exampleson / @example\n",
    "\n",
    " Shokou Okano / @sho\n",
    "\n",
    " Darth Vader / @darthvader"
   ]
  },
  {
   "cell_type": "code",
   "execution_count": null,
   "metadata": {
    "scrolled": true
   },
   "outputs": [
    {
     "name": "stdout",
     "output_type": "stream",
     "text": [
      "[('Hawkins, Derek', 'derek@codingtemple.com\\t(555) 555-5555\\tTeacher, Coding Temple\\t'), ('Zhai, Mo', 'mozhai@codingtemple.com\\t(555) 555-5554\\tTeacher, Coding Temple\\nJohnson, Joe\\tjoejohnson'), ('Osterberg, Sven-Erik', 'governor@norrbotten.co.se\\t\\tGovernor, Norrbotten\\t'), (', Tim', 'tim@killerrabbit.com\\t\\tEnchanter, Killer Rabbit Cave\\nButz, Ryan\\tryanb'), ('Exampleson, Example', 'me@example.com\\t555-555-5552\\tExample, Example Co.\\t'), ('Pael, Ripal', 'ripalp@codingtemple.com\\t(555) 555-5553\\tTeacher, Coding Temple\\t'), ('Sanz, Maria Teresa', 'mtfvs@spain.gov\\t\\tFirst Deputy Prime Minister, Spanish Gov\\n')]\n"
     ]
    }
   ],
   "source": [
    "pat = re.compile('(?P<fullname>[A-Z]?[a-z ]*, [A-Z][a-zA-Z- ]+)\\s(?P<optional>[a-z]+@[-,.\\w\\d\\s\\(\\)]+)?(?P<Twitter>@[a-z]+)?$') \n",
    "found = pat.findall(data)                              #^^ the last - and the space after it are counted in what we are looking for in the pattern\n",
    "print(found)"
   ]
  },
  {
   "cell_type": "markdown",
   "metadata": {},
   "source": [
    "### Regex project\n",
    "\n",
    "Use python to read the file regex_test.txt and print the last name on each line using regular expressions and groups (return None for names with no first and last name, or names that aren't properly capitalized)\n",
    "##### Hint: use with open() and readlines()"
   ]
  },
  {
   "cell_type": "code",
   "execution_count": 36,
   "metadata": {},
   "outputs": [
    {
     "name": "stdout",
     "output_type": "stream",
     "text": [
      "['Abraham Lincoln', 'Andrew P Garfield', 'Connor Milliken', 'Jordan Alexander Williams']\n"
     ]
    }
   ],
   "source": [
    "import re\n",
    "\n",
    "\"\"\"\n",
    "Expected Output\n",
    "Abraham Lincoln\n",
    "Andrew P Garfield\n",
    "Connor Milliken\n",
    "Jordan Alexander Williams\n",
    "None\n",
    "None\n",
    "\"\"\"\n",
    "# with open ('regex_test.txt') as file:\n",
    "#     regex_test = file.read()\n",
    "\n",
    "# def checkProperName(names_list):\n",
    "#     hw_pat = re.compile('(?P<first>[A-Z][a-zA-Z ]+)(?P<last>[A-Z][a-z]+)$')\n",
    "#     for name in names_list:\n",
    "#         match = hw_pat.match(name)\n",
    "#         if match:\n",
    "#             print(match.group(0))\n",
    "#         else:\n",
    "#             print('None')\n",
    "\n",
    "\n",
    "# checkProperName(regex_test)\n",
    "\n",
    "with open ('regex_test.txt') as file:\n",
    "    regex_test = file.read()\n",
    "hw_pat = re.compile('[A-Z][a-zA-Z ]+ [A-Z][a-z]+')\n",
    "hw_found = hw_pat.findall(regex_test)\n",
    "print(hw_found)"
   ]
  }
 ],
 "metadata": {
  "kernelspec": {
   "display_name": "Python 3",
   "language": "python",
   "name": "python3"
  },
  "language_info": {
   "codemirror_mode": {
    "name": "ipython",
    "version": 3
   },
   "file_extension": ".py",
   "mimetype": "text/x-python",
   "name": "python",
   "nbconvert_exporter": "python",
   "pygments_lexer": "ipython3",
   "version": "3.9.10"
  }
 },
 "nbformat": 4,
 "nbformat_minor": 2
}
